{
 "cells": [
  {
   "cell_type": "code",
   "execution_count": null,
   "metadata": {},
   "outputs": [],
   "source": []
  },
  {
   "attachments": {},
   "cell_type": "markdown",
   "metadata": {},
   "source": [
    "# Twitter API:\n",
    "\n",
    "## About the Twitter API:\n",
    "\n",
    "The Twitter API can be used to programmatically retrieve and analyze Twitter data, as well as build for the conversation on Twitter.\n",
    "Over the years, the Twitter API has grown by adding additional levels of access for developers and academic researchers to be able to scale their access to enhance and research the public conversation. \n",
    "Recently, we released the Twitter API v2. The Twitter API v2 includes a modern foundation, new and advanced features, and quick onboarding to Essential access. \n",
    "\n",
    "The following three tabs explain the different versions and access levels of the Twitter API, what’s new with v2, and which Twitter resources you can retrieve, create, destroy, and adjust using the API.\n",
    "There are two versions of the Twitter API: REST and Streaming. The REST API provides a simple way to retrieve information from Twitter in a RESTful manner, which makes it easy to integrate with other systems. The Streaming API allows developers to receive real-time updates from Twitter, such as new tweets or mentions, in a continuous stream of data.\n",
    "\n",
    "## Using the Twitter API:\n",
    "To use the Twitter API, you need to have a Twitter Developer account and create a Twitter Developer App. Once you have created an app, you will receive API keys and tokens that you can use to make API requests.\n",
    "\n",
    "## Syntax:\n",
    "If you're using the Twitter API with Python, you can use a library such as tweepy to make it easier to work with the API. The tweepy library provides a convenient wrapper around the Twitter API, and supports both the REST and Streaming APIs.\n",
    "Here's an example of how you might use the tweepy library to authenticate with the Twitter API and post a tweet:\n"
   ]
  },
  {
   "cell_type": "code",
   "execution_count": null,
   "metadata": {},
   "outputs": [],
   "source": [
    "#API Key - 9y9uyYtzCQZhrmishaFmlKwOG\n",
    "#API Secret Key - DUVnngbDHcKA4ytOWH3XXqs7JDDrGlzbnNftts2la2rR3EL5tA\n",
    "#Bearer Token - AAAAAAAAAAAAAAAAAAAAAOD5iAEAAAAAb8tcsqHQotKI4IvSf2a3%2B1nGw9s%3DJAOo37Yrq4yU7ud8yfo507QsnS8sNfMbw32H7gcXwu1nbTvn2q\n",
    "#Client ID - b0ZDaWJkSFZISmlfQnlxVUlMZzU6MTpjaQ\n",
    "#Client Secret - afzHw0FjTx0MhsEPjF_EK61pSsxVYzyHE7PJDmge_G3l4CWdpB\n",
    "#BhrXVzfdtZWadU5f0mY5B9dIXwm_vZPe3caA-B19c9wNF2atNx\n",
    "\n",
    "#Access token - 3147434104-tLthMbDh8QZ1cN7yaeGWySpVSHeUTSGBKo2scCI\n",
    "#AT Secret - pxxp0ospu68358qn3JUwvChH6DKQI1pKSthX3rxLKnnny\n",
    "\n",
    "\n",
    "# Authenticate to Twitter\n",
    "auth = tweepy.OAuthHandler(\"consumer_key\", \"consumer_secret\")\n",
    "auth.set_access_token(\"access_token\", \"access_token_secret\")\n",
    "\n",
    "# Create API object\n",
    "api = tweepy.API(auth)\n",
    "\n",
    "# Update status\n",
    "api.update_status(\"Hello Tweepy\")\n"
   ]
  },
  {
   "attachments": {},
   "cell_type": "markdown",
   "metadata": {},
   "source": [
    "In this example, you would replace \"consumer_key\", \"consumer_secret\", \"access_token\", and \"access_token_secret\" with the appropriate values for your Twitter Developer App.\n",
    "\n",
    "You can also use the tweepy library to retrieve information from the Twitter API. For example, here's how you might retrieve the most recent tweets from a user's timeline:"
   ]
  },
  {
   "cell_type": "code",
   "execution_count": null,
   "metadata": {},
   "outputs": [],
   "source": [
    "# Authenticate to Twitter\n",
    "auth = tweepy.OAuthHandler(\"consumer_key\", \"consumer_secret\")\n",
    "auth.set_access_token(\"access_token\", \"access_token_secret\")\n",
    "\n",
    "# Create API object\n",
    "api = tweepy.API(auth)\n",
    "\n",
    "# Retrieve tweets from a user's timeline\n",
    "public_tweets = api.user_timeline(screen_name=\"twitter_username\")\n",
    "for tweet in public_tweets:\n",
    "    print(tweet.text)\n"
   ]
  },
  {
   "attachments": {},
   "cell_type": "markdown",
   "metadata": {},
   "source": [
    "This example uses the user_timeline method of the API object to retrieve the most recent tweets from the timeline of the specified Twitter user. The screen_name parameter specifies the Twitter username of the user whose timeline you want to retrieve.\n",
    "\n",
    "These are just a few examples of what you can do with the Twitter API using Python and the tweepy library. The API provides many more methods for accessing and manipulating data on the Twitter platform, and the tweepy library makes it easy to work with these methods.\n",
    "\n",
    "## Error Handling:\n",
    "When working with the Twitter API, it's important to handle errors that can occur during API requests, such as rate limiting, authentication failures, or invalid requests.\n",
    "Here's an example of how you might handle errors when using the tweepy library to post a tweet:"
   ]
  },
  {
   "cell_type": "code",
   "execution_count": null,
   "metadata": {},
   "outputs": [],
   "source": [
    "# Authenticate to Twitter\n",
    "auth = tweepy.OAuthHandler(\"consumer_key\", \"consumer_secret\")\n",
    "auth.set_access_token(\"access_token\", \"access_token_secret\")\n",
    "\n",
    "# Create API object\n",
    "api = tweepy.API(auth)\n",
    "\n",
    "try:\n",
    "    # Update status\n",
    "    api.update_status(\"Hello Tweepy\")\n",
    "except tweepy.TweepError as error:\n",
    "    print(f\"Error occurred while posting tweet: {error}\")\n"
   ]
  },
  {
   "attachments": {},
   "cell_type": "markdown",
   "metadata": {},
   "source": [
    "In this example, the code for posting a tweet is wrapped in a try block. If an error occurs while posting the tweet, such as an authentication failure, a rate limiting error, or a request that violates the Twitter API terms of service, a TweepError will be raised, and the code in the except block will be executed.\n",
    "\n",
    "You can handle different types of errors by checking the error code or error message provided in the TweepError exception. For example, you might want to implement different error handling behavior for rate limiting errors than for authentication failures.\n",
    "\n",
    "## Twitter API’s documentation:\n",
    "Twitter has been known for providing comprehensive and well-organized API documentation.\n",
    "The Twitter API documentation provides clear and concise explanations of how to use the API, including examples and detailed information on endpoint parameters and responses. It also includes information on rate limiting, authentication, and error handling, making it a comprehensive resource for developers.\n",
    "However, the quality of the documentation can change over time, so it's always a good idea to periodically review the documentation to ensure that it is up-to-date and meets your needs.\n",
    "\n",
    "## Twitter API’s Versioning:\n",
    "Twitter handles API versioning by using version numbers in the API endpoint URLs. Each version of the API is a separate endpoint, and the version number is included in the URL. This allows developers to specify which version of the API they want to use, and to continue to use an older version if they need to.\n",
    "\n",
    "For example, if a developer wants to use version 2 of the Twitter API, they would make requests to an endpoint with a URL that includes the version number, such as \"https://api.twitter.com/2/tweets\".\n",
    "\n",
    "When a new version of the API is released, Twitter may add new features or make changes to existing features. To ensure that developers have time to update their applications, Twitter will typically continue to support older versions of the API for a period of time after the new version is released. This allows developers to continue to use the older version of the API if they need to, while giving them time to update their applications to use the latest version.\n",
    "\n",
    "By using versioning, Twitter provides a flexible and stable platform for developers, allowing them to use the latest features while still being able to continue using older versions of the API if necessary.\n",
    "\n"
   ]
  }
 ],
 "metadata": {
  "language_info": {
   "name": "python"
  },
  "orig_nbformat": 4
 },
 "nbformat": 4,
 "nbformat_minor": 2
}
